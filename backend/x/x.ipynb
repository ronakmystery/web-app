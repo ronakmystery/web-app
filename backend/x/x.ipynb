{
 "cells": [
  {
   "cell_type": "code",
   "execution_count": 2,
   "id": "e73719cb",
   "metadata": {},
   "outputs": [
    {
     "name": "stdout",
     "output_type": "stream",
     "text": [
      "📤 Uploading 988-v01.mid...\n",
      "✅ Uploaded 988-v01.mid → Job ID: b90bb9af-8e51-49c9-9636-b23e07e204d1\n",
      "\n"
     ]
    }
   ],
   "source": [
    "import os\n",
    "import requests\n",
    "import urllib3\n",
    "\n",
    "# Suppress SSL warnings (mkcert/self-signed cert)\n",
    "urllib3.disable_warnings(urllib3.exceptions.InsecureRequestWarning)\n",
    "\n",
    "midi_folder = \"midis\"  # Local folder with .mid files\n",
    "userid = \"785f9a6b-589b-46c0-ac1e-3aeb8124c1e7\"  # Replace with your user ID\n",
    "reverse = False\n",
    "retro = True\n",
    "\n",
    "upload_url = \"https://localhost/backend/upload\"  # Use https if your Flask is behind mkcert\n",
    "\n",
    "def upload_midi_file(file_path):\n",
    "    filename = os.path.basename(file_path)\n",
    "    print(f\"📤 Uploading {filename}...\")\n",
    "\n",
    "    with open(file_path, \"rb\") as f:\n",
    "        files = {\"file\": (filename, f, \"audio/midi\")}\n",
    "        data = {\n",
    "            \"userid\": userid,\n",
    "            \"reverse\": str(reverse).lower(),\n",
    "            \"retro\": str(retro).lower()\n",
    "        }\n",
    "\n",
    "        try:\n",
    "            response = requests.post(upload_url, files=files, data=data, verify=False)\n",
    "            if response.status_code != 200:\n",
    "                print(f\"❌ Upload failed: {response.status_code} - {response.text}\")\n",
    "                return\n",
    "\n",
    "            json = response.json()\n",
    "            job_id = json.get(\"id\")\n",
    "            if not job_id:\n",
    "                print(f\"❌ No job ID in response: {json}\")\n",
    "                return\n",
    "\n",
    "            print(f\"✅ Uploaded {filename} → Job ID: {job_id}\\n\")\n",
    "\n",
    "        except Exception as e:\n",
    "            print(f\"❌ Error uploading {filename}: {e}\")\n",
    "\n",
    "# Run for all .mid/.midi files in the folder\n",
    "for file in os.listdir(midi_folder):\n",
    "    if file.endswith(\".mid\") or file.endswith(\".midi\"):\n",
    "        upload_midi_file(os.path.join(midi_folder, file))\n"
   ]
  }
 ],
 "metadata": {
  "kernelspec": {
   "display_name": "Python 3",
   "language": "python",
   "name": "python3"
  },
  "language_info": {
   "codemirror_mode": {
    "name": "ipython",
    "version": 3
   },
   "file_extension": ".py",
   "mimetype": "text/x-python",
   "name": "python",
   "nbconvert_exporter": "python",
   "pygments_lexer": "ipython3",
   "version": "3.11.9"
  }
 },
 "nbformat": 4,
 "nbformat_minor": 5
}
