{
 "cells": [
  {
   "cell_type": "code",
   "execution_count": 5,
   "id": "37e502b0",
   "metadata": {},
   "outputs": [
    {
     "name": "stdout",
     "output_type": "stream",
     "text": [
      "✅ Compressed: bach.jpg\n",
      "✅ Compressed: chopin.jpg\n"
     ]
    }
   ],
   "source": [
    "from PIL import Image\n",
    "import os\n",
    "\n",
    "# CONFIG\n",
    "input_folder = \"./\"\n",
    "output_folder = \"compressed\"\n",
    "max_size = 200  # px\n",
    "quality = 100    # JPEG compression quality (1–100)\n",
    "\n",
    "os.makedirs(output_folder, exist_ok=True)\n",
    "\n",
    "for filename in os.listdir(input_folder):\n",
    "    if filename.lower().endswith((\".jpg\")):\n",
    "        path = os.path.join(input_folder, filename)\n",
    "        img = Image.open(path)\n",
    "        img.thumbnail((max_size, max_size))  # keep aspect ratio\n",
    "\n",
    "        output_path = os.path.join(output_folder, filename)\n",
    "        img.save(output_path, \"JPEG\", quality=quality, optimize=True)\n",
    "\n",
    "        print(f\"✅ Compressed: {filename}\")\n"
   ]
  }
 ],
 "metadata": {
  "kernelspec": {
   "display_name": "Python 3",
   "language": "python",
   "name": "python3"
  },
  "language_info": {
   "codemirror_mode": {
    "name": "ipython",
    "version": 3
   },
   "file_extension": ".py",
   "mimetype": "text/x-python",
   "name": "python",
   "nbconvert_exporter": "python",
   "pygments_lexer": "ipython3",
   "version": "3.13.3"
  }
 },
 "nbformat": 4,
 "nbformat_minor": 5
}
